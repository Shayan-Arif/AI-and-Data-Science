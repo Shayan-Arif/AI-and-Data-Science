{
  "cells": [
    {
      "cell_type": "markdown",
      "metadata": {
        "id": "A05OG15VqOPF"
      },
      "source": [
        "# Task : Session 1\n",
        "Solve these questions own your own and try to test yourself what you have learned in the session.\n",
        "\n",
        "Happy Learning!"
      ]
    },
    {
      "cell_type": "markdown",
      "metadata": {
        "id": "2doIXf8bqe9_"
      },
      "source": [
        "### Q1 :- Print the given strings as per stated format.\n",
        "\n",
        "**Given strings**:\n",
        "```\n",
        "\"Data\" \"Science\" \"Mentorship\" \"Program\"\n",
        "\"By\" \"CampusX\"\n",
        "```\n",
        "**Output**:\n",
        "```\n",
        "Data-Science-Mentorship-Program-started-By-CampusX\n",
        "```\n",
        "\n",
        "Concept- [Seperator and End]"
      ]
    },
    {
      "cell_type": "code",
      "execution_count": 9,
      "metadata": {
        "id": "-em6d3KErDtp"
      },
      "outputs": [
        {
          "name": "stdout",
          "output_type": "stream",
          "text": [
            "Data-Science-Mentorship-Program-By-CampusX\n"
          ]
        }
      ],
      "source": [
        "print(\"Data\", \"Science\", \"Mentorship\", \"Program\",\n",
        "\"By\", \"CampusX\", sep='-')"
      ]
    },
    {
      "cell_type": "markdown",
      "metadata": {
        "id": "1KUpN7ZTrC3_"
      },
      "source": [
        "### Q2:- Write a program that will convert celsius value to fahrenheit."
      ]
    },
    {
      "cell_type": "code",
      "execution_count": 12,
      "metadata": {
        "id": "yxKYhYQiqWfj"
      },
      "outputs": [
        {
          "name": "stdout",
          "output_type": "stream",
          "text": [
            "122.0\n"
          ]
        }
      ],
      "source": [
        "celcius = 50\n",
        "fahrenheit = (celcius * 9/5) + 32\n",
        "print(fahrenheit)"
      ]
    },
    {
      "cell_type": "markdown",
      "metadata": {
        "id": "RLrOBBJurLB2"
      },
      "source": [
        "### Q3:- Take 2 numbers as input from the user.Write a program to swap the numbers without using any special python syntax."
      ]
    },
    {
      "cell_type": "code",
      "execution_count": 13,
      "metadata": {
        "id": "yPn7if0TrJ4F"
      },
      "outputs": [
        {
          "name": "stdout",
          "output_type": "stream",
          "text": [
            "Number 1:  20\n",
            "Number 2:  10\n"
          ]
        }
      ],
      "source": [
        "num1 = int(input(\"Enter a number 1: \"))\n",
        "num2 = int(input(\"Enter a number 2: \"))\n",
        "\n",
        "dummy = num1\n",
        "num1 = num2\n",
        "num2 = dummy    \n",
        "\n",
        "print(\"Number 1: \", num1)\n",
        "print(\"Number 2: \", num2)"
      ]
    },
    {
      "cell_type": "markdown",
      "metadata": {
        "id": "waLCP1bjr7ML"
      },
      "source": [
        "### Q4:- Write a program to find the euclidean distance between two coordinates.Take both the coordinates from the user as input."
      ]
    },
    {
      "cell_type": "code",
      "execution_count": 14,
      "metadata": {
        "id": "Pl1Sv-xnrxnH"
      },
      "outputs": [
        {
          "name": "stdout",
          "output_type": "stream",
          "text": [
            "91.92388155425118\n"
          ]
        }
      ],
      "source": [
        "# Write a program to find the euclidean distance between two coordinates.Take both the coordinates from the user as input.\n",
        "import math\n",
        "x1 = int(input(\"Enter x1: \"))\n",
        "y1 = int(input(\"Enter y1: \"))\n",
        "x2 = int(input(\"Enter x2: \"))\n",
        "y2 = int(input(\"Enter y2: \"))\n",
        "distance = math.sqrt((x2-x1)**2 + (y2-y1)**2)\n",
        "print(distance)\n"
      ]
    },
    {
      "cell_type": "markdown",
      "metadata": {
        "id": "VLrhg-FRsHjR"
      },
      "source": [
        "### Q5:- Write a program to find the simple interest when the value of principle,rate of interest and time period is provided by the user.\n"
      ]
    },
    {
      "cell_type": "code",
      "execution_count": 15,
      "metadata": {
        "id": "s40DlReZsTmY"
      },
      "outputs": [
        {
          "name": "stdout",
          "output_type": "stream",
          "text": [
            "200.0\n"
          ]
        }
      ],
      "source": [
        "#Write a program to find the simple interest when the value of principle,rate of interest and time period is provided by the user.\n",
        "principle = int(input(\"Enter principle: \"))\n",
        "rate = int(input(\"Enter rate: \"))\n",
        "time = int(input(\"Enter time: \"))\n",
        "simple_interest = (principle * rate * time)/100\n",
        "print(simple_interest)\n"
      ]
    },
    {
      "cell_type": "markdown",
      "metadata": {
        "id": "LMy0BTUktYKa"
      },
      "source": [
        "### Q6:- Write a program that will tell the number of dogs and chicken are there when the user will provide the value of total heads and legs.\n",
        "\n",
        "For example:\n",
        "Input:\n",
        "heads -> 4\n",
        "legs -> 12\n",
        "<br>\n",
        "Output:\n",
        "dogs -> 2\n",
        "chicken -> 2\n",
        "\n",
        "\n",
        "\n"
      ]
    },
    {
      "cell_type": "code",
      "execution_count": 16,
      "metadata": {
        "id": "XSBvJoA4tXaG"
      },
      "outputs": [
        {
          "name": "stdout",
          "output_type": "stream",
          "text": [
            "Chicken:  5.0\n",
            "Dogs:  5.0\n"
          ]
        }
      ],
      "source": [
        "# Write a program that will tell the number of dogs and chicken are there when the user will provide the value of total heads and legs.\n",
        "heads = int(input(\"Enter heads: \"))\n",
        "legs = int(input(\"Enter legs: \"))\n",
        "chicken = (legs - (2*heads))/2\n",
        "dogs = heads - chicken\n",
        "print(\"Chicken: \", chicken) \n",
        "print(\"Dogs: \", dogs)\n"
      ]
    },
    {
      "cell_type": "markdown",
      "metadata": {
        "id": "gJ7C5kZYt4BP"
      },
      "source": [
        "### Q7:- Write a program to find the sum of squares of first n natural numbers where n will be provided by the user."
      ]
    },
    {
      "cell_type": "code",
      "execution_count": 19,
      "metadata": {
        "id": "_tHsmEHzt2nX"
      },
      "outputs": [
        {
          "name": "stdout",
          "output_type": "stream",
          "text": [
            "42925\n"
          ]
        }
      ],
      "source": [
        "# Write a program to find the sum of squares of first n natural numbers where n will be provided by the user.\n",
        "n = int(input(\"Enter n: \"))\n",
        "sum = 0\n",
        "for i in range(1, n+1):\n",
        "    sum += i**2\n",
        "print(sum)\n"
      ]
    },
    {
      "cell_type": "markdown",
      "metadata": {
        "id": "FHrMM7g-yG1h"
      },
      "source": [
        "### Q8:- Given the first 2 terms of an Arithmetic Series.Find the Nth term of the series. Assume all inputs are provided by the user."
      ]
    },
    {
      "cell_type": "code",
      "execution_count": 20,
      "metadata": {
        "id": "go4_kmZmyVSx"
      },
      "outputs": [
        {
          "name": "stdout",
          "output_type": "stream",
          "text": [
            "110\n"
          ]
        }
      ],
      "source": [
        "# Given the first 2 terms of an Arithmetic Series.Find the Nth term of the series. Assume all inputs are provided by the user.\n",
        "a = int(input(\"Enter first term: \"))\n",
        "b = int(input(\"Enter second term: \"))\n",
        "n = int(input(\"Enter n: \"))\n",
        "d = b - a\n",
        "nth_term = a + (n-1)*d\n",
        "print(nth_term)\n"
      ]
    },
    {
      "cell_type": "markdown",
      "metadata": {
        "id": "QgyRX_es1oum"
      },
      "source": [
        "### Q9:- Given 2 fractions, find the sum of those 2 fractions.Take the numerator and denominator values of the fractions from the user."
      ]
    },
    {
      "cell_type": "code",
      "execution_count": 21,
      "metadata": {
        "id": "X05xqFS1yW16"
      },
      "outputs": [
        {
          "name": "stdout",
          "output_type": "stream",
          "text": [
            "150 / 10\n"
          ]
        }
      ],
      "source": [
        "# Given 2 fractions, find the sum of those 2 fractions.Take the numerator and denominator values of the fractions from the user.\n",
        "num1 = int(input(\"Enter numerator 1: \"))\n",
        "den1 = int(input(\"Enter denominator 1: \"))\n",
        "num2 = int(input(\"Enter numerator 2: \"))\n",
        "den2 = int(input(\"Enter denominator 2: \"))\n",
        "num = (num1*den2) + (num2*den1)\n",
        "den = den1 * den2\n",
        "print(num, \"/\", den)\n"
      ]
    },
    {
      "cell_type": "markdown",
      "metadata": {
        "id": "eaql38ln13u7"
      },
      "source": [
        "### Q10:- Given the height, width and breadth of a milk tank, you have to find out how many glasses of milk can be obtained? Assume all the inputs are provided by the user.\n",
        "\n",
        "\n",
        "\n",
        "Input:<br>\n",
        "Dimensions of the milk tank<br>\n",
        "H = 20cm, L = 20cm, B = 20cm\n",
        "<br><br>\n",
        "Dimensions of the glass<br>\n",
        "h = 3cm, r = 1cm"
      ]
    },
    {
      "cell_type": "code",
      "execution_count": 22,
      "metadata": {
        "id": "FePZqno74eWv"
      },
      "outputs": [
        {
          "name": "stdout",
          "output_type": "stream",
          "text": [
            "150\n"
          ]
        }
      ],
      "source": [
        "# Given the height, width and breadth of a milk tank, you have to find out how many glasses of milk can be obtained? Assume all the inputs are provided by the user.\n",
        "height = int(input(\"Enter height: \"))\n",
        "width = int(input(\"Enter width: \"))\n",
        "breadth = int(input(\"Enter breadth: \"))\n",
        "volume = height * width * breadth\n",
        "glasses = volume // 200\n",
        "print(glasses)\n"
      ]
    }
  ],
  "metadata": {
    "colab": {
      "provenance": []
    },
    "kernelspec": {
      "display_name": "Python 3",
      "name": "python3"
    },
    "language_info": {
      "codemirror_mode": {
        "name": "ipython",
        "version": 3
      },
      "file_extension": ".py",
      "mimetype": "text/x-python",
      "name": "python",
      "nbconvert_exporter": "python",
      "pygments_lexer": "ipython3",
      "version": "3.11.0"
    }
  },
  "nbformat": 4,
  "nbformat_minor": 0
}
